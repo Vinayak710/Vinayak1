{
 "cells": [
  {
   "cell_type": "raw",
   "id": "d042bc76",
   "metadata": {},
   "source": [
    "# BLACK JACK GAME"
   ]
  },
  {
   "cell_type": "code",
   "execution_count": 1,
   "id": "454c61f6",
   "metadata": {},
   "outputs": [],
   "source": [
    "# We'll use this later\n",
    "import random "
   ]
  },
  {
   "cell_type": "code",
   "execution_count": 2,
   "id": "65f5d585",
   "metadata": {},
   "outputs": [],
   "source": [
    "suits = ('Hearts', 'Diamonds', 'Spades', 'Clubs')\n",
    "ranks = ('Two', 'Three', 'Four', 'Five', 'Six', 'Seven', 'Eight', 'Nine', 'Ten', 'Jack', 'Queen', 'King', 'Ace')\n",
    "values = {'Two':2, 'Three':3, 'Four':4, 'Five':5, 'Six':6, 'Seven':7, 'Eight':8, \n",
    "            'Nine':9, 'Ten':10, 'Jack':10, 'Queen':10, 'King':10, 'Ace':1}"
   ]
  },
  {
   "cell_type": "code",
   "execution_count": 3,
   "id": "171c3349",
   "metadata": {},
   "outputs": [],
   "source": [
    "class Card:\n",
    "    \n",
    "    def __init__(self,suit,rank):\n",
    "        self.suit = suit\n",
    "        self.rank = rank\n",
    "        self.value = values[rank]\n",
    "        \n",
    "    def __str__(self):\n",
    "        return self.rank + ' of ' + self.suit"
   ]
  },
  {
   "cell_type": "code",
   "execution_count": 4,
   "id": "4303db9e",
   "metadata": {},
   "outputs": [],
   "source": [
    "class Deck:\n",
    "    \n",
    "    def __init__(self):\n",
    "        # Note this only happens once upon creation of a new Deck\n",
    "        self.all_cards = [] \n",
    "        for suit in suits:\n",
    "            for rank in ranks:\n",
    "                # This assumes the Card class has already been defined!\n",
    "                self.all_cards.append(Card(suit,rank))\n",
    "                \n",
    "    def shuffle(self):\n",
    "        # Note this doesn't return anything\n",
    "        random.shuffle(self.all_cards)\n",
    "        \n",
    "    def deal_one(self):\n",
    "        # Note we remove one card from the list of all_cards\n",
    "        return self.all_cards.pop()        "
   ]
  },
  {
   "cell_type": "code",
   "execution_count": 5,
   "id": "1075d1cd",
   "metadata": {},
   "outputs": [],
   "source": [
    "class Player:\n",
    "    totalvalue=0\n",
    "    def __init__(self,):\n",
    "        \n",
    "        self.player_card_list=[]\n",
    "        self.playercard1=deck1.deal_one()\n",
    "        self.playercard2=deck1.deal_one()\n",
    "        self.player_card_list.append(self.playercard1)\n",
    "        self.player_card_list.append(self.playercard2)\n",
    "\n",
    "    def display_cards(self):\n",
    "        for card in self.player_card_list:\n",
    "            print(f\"{card}\") \n",
    "    \n",
    "    def total_value_initial(self):\n",
    "        for card in self.player_card_list:\n",
    "            if card.rank==\"Ace\":\n",
    "                while True:\n",
    "                    Acevalue=int(input(\"what value you want to assign to your ace card 1 or 11  your input \"))\n",
    "                    if Acevalue==1 or Acevalue==11:\n",
    "                        card.value=Acevalue\n",
    "                        break\n",
    "                    else:\n",
    "                        print(\"enter a valid input 1 or 11 \")\n",
    "                        \n",
    "            self.totalvalue=card.value+self.totalvalue\n",
    "        return self.totalvalue\n",
    "    \n",
    "    def take_new_card(self):\n",
    "        self.newcard=deck1.deal_one()\n",
    "        self.player_card_list.append(self.newcard)\n",
    "    \n",
    "    def new_card_totaling(self):\n",
    "        if self.player_card_list[-1]==\"Ace\":\n",
    "            new_ace_value=int(input(\"what value you want to assign to your ace card 1 or 11  your input \"))\n",
    "            self.player_card_list[-1].value=new_ace_value\n",
    "            self.totalvalue=new_ace_value+self.totalvalue\n",
    "            return self.totalvalue\n",
    "                \n",
    "        else :\n",
    "            self.totalvalue=self.player_card_list[-1].value+self.totalvalue\n",
    "            return self.totalvalue\n",
    "                \n",
    "        \n",
    "        "
   ]
  },
  {
   "cell_type": "code",
   "execution_count": 6,
   "id": "0b01ea08",
   "metadata": {},
   "outputs": [],
   "source": [
    "class Dealler:\n",
    "    totalvalue=0\n",
    "    def __init__(self):\n",
    "        self.dealler_cards=[]\n",
    "        self.deallercard1=deck1.deal_one()\n",
    "        self.deallercard2=deck1.deal_one()\n",
    "        self.dealler_cards.append(self.deallercard1)\n",
    "        self.dealler_cards.append(self.deallercard2)\n",
    "        \n",
    "    def initial_initial_single_card(self):\n",
    "        print(f\"Dealler first card is {self.deallercard1}\")\n",
    "    \n",
    "    def second_card(self):\n",
    "        print(f\"Dealler second card is {self.deallercard2}\")\n",
    "        \n",
    "    \n",
    "    def total_value(self):\n",
    "        for cards in self.dealler_cards:\n",
    "            if cards==\"Ace\":\n",
    "                cards.value=1\n",
    "                self.totalvalue=cards.value+self.totalvalue\n",
    "            else:\n",
    "                self.totalvalue=cards.value+self.totalvalue\n",
    "        return self.totalvalue    \n",
    "    \n",
    "    def take_new_card(self):\n",
    "        self.newcard=deck1.deal_one()\n",
    "        self.dealler_cards.append(self.newcard)\n",
    "        \n",
    "    def new_dealler_total_value(self):\n",
    "        if self.dealler_cards[-1]==\"Ace\":\n",
    "            self.dealler_cards[-1].value=1\n",
    "            newtotal=self.totalvalue+self.dealler_cards[-1].value\n",
    "            self.totalvalue=newtotal\n",
    "            return self.totalvalue\n",
    "        else:    \n",
    "            newtotal=self.totalvalue+self.dealler_cards[-1].value\n",
    "            self.totalvalue=newtotal\n",
    "            return self.totalvalue"
   ]
  },
  {
   "cell_type": "code",
   "execution_count": 7,
   "id": "14dd4440",
   "metadata": {},
   "outputs": [
    {
     "name": "stdout",
     "output_type": "stream",
     "text": [
      "Seven of Diamonds\n",
      "Three of Spades\n",
      "10\n",
      "Dealler first card is Jack of Spades\n",
      "Do you want to take new card yes or noyes\n",
      "Seven of Diamonds\n",
      "Three of Spades\n",
      "Ace of Spades\n",
      "11\n"
     ]
    },
    {
     "ename": "KeyboardInterrupt",
     "evalue": "Interrupted by user",
     "output_type": "error",
     "traceback": [
      "\u001b[1;31m---------------------------------------------------------------------------\u001b[0m",
      "\u001b[1;31mKeyboardInterrupt\u001b[0m                         Traceback (most recent call last)",
      "Cell \u001b[1;32mIn[7], line 24\u001b[0m\n\u001b[0;32m     20\u001b[0m \u001b[38;5;66;03m# now we are wrighting a while loop for the player turn to happen\u001b[39;00m\n\u001b[0;32m     22\u001b[0m \u001b[38;5;28;01mwhile\u001b[39;00m \u001b[38;5;28;01mTrue\u001b[39;00m:\n\u001b[0;32m     23\u001b[0m     \u001b[38;5;66;03m# this while loop is for choice of player to take new cards or not\u001b[39;00m\n\u001b[1;32m---> 24\u001b[0m     choice\u001b[38;5;241m=\u001b[39m\u001b[38;5;28;43minput\u001b[39;49m\u001b[43m(\u001b[49m\u001b[38;5;124;43m\"\u001b[39;49m\u001b[38;5;124;43mDo you want to take new card yes or no\u001b[39;49m\u001b[38;5;124;43m\"\u001b[39;49m\u001b[43m)\u001b[49m\n\u001b[0;32m     25\u001b[0m     choice\u001b[38;5;241m=\u001b[39mchoice\u001b[38;5;241m.\u001b[39mupper()\n\u001b[0;32m     26\u001b[0m     \u001b[38;5;28;01mif\u001b[39;00m choice\u001b[38;5;241m==\u001b[39m\u001b[38;5;124m\"\u001b[39m\u001b[38;5;124mYES\u001b[39m\u001b[38;5;124m\"\u001b[39m:\n",
      "File \u001b[1;32m~\\anaconda3\\lib\\site-packages\\ipykernel\\kernelbase.py:1175\u001b[0m, in \u001b[0;36mKernel.raw_input\u001b[1;34m(self, prompt)\u001b[0m\n\u001b[0;32m   1171\u001b[0m \u001b[38;5;28;01mif\u001b[39;00m \u001b[38;5;129;01mnot\u001b[39;00m \u001b[38;5;28mself\u001b[39m\u001b[38;5;241m.\u001b[39m_allow_stdin:\n\u001b[0;32m   1172\u001b[0m     \u001b[38;5;28;01mraise\u001b[39;00m StdinNotImplementedError(\n\u001b[0;32m   1173\u001b[0m         \u001b[38;5;124m\"\u001b[39m\u001b[38;5;124mraw_input was called, but this frontend does not support input requests.\u001b[39m\u001b[38;5;124m\"\u001b[39m\n\u001b[0;32m   1174\u001b[0m     )\n\u001b[1;32m-> 1175\u001b[0m \u001b[38;5;28;01mreturn\u001b[39;00m \u001b[38;5;28;43mself\u001b[39;49m\u001b[38;5;241;43m.\u001b[39;49m\u001b[43m_input_request\u001b[49m\u001b[43m(\u001b[49m\n\u001b[0;32m   1176\u001b[0m \u001b[43m    \u001b[49m\u001b[38;5;28;43mstr\u001b[39;49m\u001b[43m(\u001b[49m\u001b[43mprompt\u001b[49m\u001b[43m)\u001b[49m\u001b[43m,\u001b[49m\n\u001b[0;32m   1177\u001b[0m \u001b[43m    \u001b[49m\u001b[38;5;28;43mself\u001b[39;49m\u001b[38;5;241;43m.\u001b[39;49m\u001b[43m_parent_ident\u001b[49m\u001b[43m[\u001b[49m\u001b[38;5;124;43m\"\u001b[39;49m\u001b[38;5;124;43mshell\u001b[39;49m\u001b[38;5;124;43m\"\u001b[39;49m\u001b[43m]\u001b[49m\u001b[43m,\u001b[49m\n\u001b[0;32m   1178\u001b[0m \u001b[43m    \u001b[49m\u001b[38;5;28;43mself\u001b[39;49m\u001b[38;5;241;43m.\u001b[39;49m\u001b[43mget_parent\u001b[49m\u001b[43m(\u001b[49m\u001b[38;5;124;43m\"\u001b[39;49m\u001b[38;5;124;43mshell\u001b[39;49m\u001b[38;5;124;43m\"\u001b[39;49m\u001b[43m)\u001b[49m\u001b[43m,\u001b[49m\n\u001b[0;32m   1179\u001b[0m \u001b[43m    \u001b[49m\u001b[43mpassword\u001b[49m\u001b[38;5;241;43m=\u001b[39;49m\u001b[38;5;28;43;01mFalse\u001b[39;49;00m\u001b[43m,\u001b[49m\n\u001b[0;32m   1180\u001b[0m \u001b[43m\u001b[49m\u001b[43m)\u001b[49m\n",
      "File \u001b[1;32m~\\anaconda3\\lib\\site-packages\\ipykernel\\kernelbase.py:1217\u001b[0m, in \u001b[0;36mKernel._input_request\u001b[1;34m(self, prompt, ident, parent, password)\u001b[0m\n\u001b[0;32m   1214\u001b[0m             \u001b[38;5;28;01mbreak\u001b[39;00m\n\u001b[0;32m   1215\u001b[0m \u001b[38;5;28;01mexcept\u001b[39;00m \u001b[38;5;167;01mKeyboardInterrupt\u001b[39;00m:\n\u001b[0;32m   1216\u001b[0m     \u001b[38;5;66;03m# re-raise KeyboardInterrupt, to truncate traceback\u001b[39;00m\n\u001b[1;32m-> 1217\u001b[0m     \u001b[38;5;28;01mraise\u001b[39;00m \u001b[38;5;167;01mKeyboardInterrupt\u001b[39;00m(\u001b[38;5;124m\"\u001b[39m\u001b[38;5;124mInterrupted by user\u001b[39m\u001b[38;5;124m\"\u001b[39m) \u001b[38;5;28;01mfrom\u001b[39;00m \u001b[38;5;28mNone\u001b[39m\n\u001b[0;32m   1218\u001b[0m \u001b[38;5;28;01mexcept\u001b[39;00m \u001b[38;5;167;01mException\u001b[39;00m:\n\u001b[0;32m   1219\u001b[0m     \u001b[38;5;28mself\u001b[39m\u001b[38;5;241m.\u001b[39mlog\u001b[38;5;241m.\u001b[39mwarning(\u001b[38;5;124m\"\u001b[39m\u001b[38;5;124mInvalid Message:\u001b[39m\u001b[38;5;124m\"\u001b[39m, exc_info\u001b[38;5;241m=\u001b[39m\u001b[38;5;28;01mTrue\u001b[39;00m)\n",
      "\u001b[1;31mKeyboardInterrupt\u001b[0m: Interrupted by user"
     ]
    }
   ],
   "source": [
    "# GAME LOGIC\n",
    "gameon=True\n",
    "\n",
    "while gameon:\n",
    "    # this is the first part of the game ware there is deck creation and player creation \n",
    "    gameprocuide=True\n",
    "\n",
    "    deck1=Deck()                    #this wiill create a new deck\n",
    "    deck1.shuffle()                 # this will suffel the deck              \n",
    "    newplayer=Player()              #new player is created here \n",
    "    newplayer.display_cards()       # this will show the cards of player\n",
    "    initialtotal=newplayer.total_value_initial()         #this will retuen the fisrt total value of the card\n",
    "    print(initialtotal)\n",
    "\n",
    "    dealler1=Dealler()                                # creation of dealler object\n",
    "    dealler1.initial_initial_single_card()\n",
    "    dealler1.deallercard1.value\n",
    "\n",
    "\n",
    "    # now we are wrighting a while loop for the player turn to happen\n",
    "\n",
    "    while True:\n",
    "        # this while loop is for choice of player to take new cards or not\n",
    "        choice=input(\"Do you want to take new card yes or no\")\n",
    "        choice=choice.upper()\n",
    "        if choice==\"YES\":\n",
    "            newplayer.take_new_card()              # plyer takes new card\n",
    "            newplayer.display_cards()              # this display the set of new cards\n",
    "            total=newplayer.new_card_totaling()          # display the total value of new cards\n",
    "            print(total)\n",
    "            if int(total)>21:\n",
    "                # this if statement is to check for busrt case for the player\n",
    "                print(\"' BURST ' You loose the round and dealler wins the game\")\n",
    "                \n",
    "                \n",
    "                gameprocuide=False\n",
    "                break \n",
    "        elif choice==\"NO\":\n",
    "            break\n",
    "    # There is the end of player code and the dealler code starts        \n",
    "    while gameprocuide:\n",
    "        dealler1.second_card()\n",
    "        current_total_value=dealler1.total_value()\n",
    "        print(current_total_value)\n",
    "\n",
    "        if int(current_total_value)<16:\n",
    "            while True:\n",
    "\n",
    "                dealler1.take_new_card()\n",
    "                newtotaldealler=dealler1.new_dealler_total_value()\n",
    "                if int(newtotaldealler)>16:\n",
    "                    break\n",
    "\n",
    "        if int(total)>int(current_total_value):\n",
    "            print(\"contrulations you have won the wround\")\n",
    "            break  \n",
    "        else:\n",
    "            print(\"you have lost\")\n",
    "            break    \n",
    "    # Hear the dealler code ends and n\n",
    "    newgame_choice=input(\"Do you want to play next round yes or no\")\n",
    "    newgame_choice=newgame_choice.upper()\n",
    "    if newgame_choice==\"NO\":\n",
    "        break\n",
    "          \n",
    "          \n",
    "        \n",
    "        \n",
    "    \n",
    "    \n",
    "    \n",
    "    \n",
    "    "
   ]
  },
  {
   "cell_type": "code",
   "execution_count": null,
   "id": "eb2879a2",
   "metadata": {},
   "outputs": [],
   "source": []
  },
  {
   "cell_type": "code",
   "execution_count": null,
   "id": "6de75484",
   "metadata": {},
   "outputs": [],
   "source": []
  },
  {
   "cell_type": "code",
   "execution_count": 112,
   "id": "07efc8fc",
   "metadata": {},
   "outputs": [
    {
     "name": "stdout",
     "output_type": "stream",
     "text": [
      "what value you want to assign to your ace card 1 or 11  your input 1\n",
      "43\n"
     ]
    },
    {
     "data": {
      "text/plain": [
       "NoneType"
      ]
     },
     "execution_count": 112,
     "metadata": {},
     "output_type": "execute_result"
    }
   ],
   "source": [
    "int()"
   ]
  },
  {
   "cell_type": "code",
   "execution_count": 108,
   "id": "39869ed1",
   "metadata": {},
   "outputs": [
    {
     "name": "stdout",
     "output_type": "stream",
     "text": [
      "40\n"
     ]
    }
   ],
   "source": [
    "total=newplayer.total_value()"
   ]
  },
  {
   "cell_type": "code",
   "execution_count": 32,
   "id": "89ad0b53",
   "metadata": {},
   "outputs": [
    {
     "name": "stdout",
     "output_type": "stream",
     "text": [
      "Ace of Clubs\n"
     ]
    }
   ],
   "source": [
    "dealler1=Dealler()                                # creation of dealler object\n",
    "dealler1.initial_initial_single_card()"
   ]
  },
  {
   "cell_type": "code",
   "execution_count": null,
   "id": "8964700b",
   "metadata": {},
   "outputs": [],
   "source": []
  }
 ],
 "metadata": {
  "kernelspec": {
   "display_name": "Python 3 (ipykernel)",
   "language": "python",
   "name": "python3"
  },
  "language_info": {
   "codemirror_mode": {
    "name": "ipython",
    "version": 3
   },
   "file_extension": ".py",
   "mimetype": "text/x-python",
   "name": "python",
   "nbconvert_exporter": "python",
   "pygments_lexer": "ipython3",
   "version": "3.10.9"
  }
 },
 "nbformat": 4,
 "nbformat_minor": 5
}
